{
 "cells": [
  {
   "cell_type": "code",
   "execution_count": 1,
   "id": "6d410d47",
   "metadata": {},
   "outputs": [],
   "source": [
    "import numpy as np\n",
    "import matplotlib.pyplot as plt\n",
    "from gridworld import standard_grid, negative_grid\n",
    "from iterative_policy_evaluation_probabilistic import print_values, print_policy"
   ]
  },
  {
   "cell_type": "code",
   "execution_count": 2,
   "id": "aa277e78",
   "metadata": {},
   "outputs": [],
   "source": [
    "SMALL_ENOUGH = 1e-3\n",
    "GAMMA = 0.9\n",
    "ALPHA = 0.1\n",
    "ALL_POSSIBLE_ACTIONS = ('U', 'D', 'L', 'R')"
   ]
  },
  {
   "cell_type": "code",
   "execution_count": 3,
   "id": "fa2c6d79",
   "metadata": {},
   "outputs": [],
   "source": [
    "def epsilon_greedy(policy, s, eps=0.1):\n",
    "  # we'll use epsilon-soft to ensure all states are visited\n",
    "  # what happens if you don't do this? i.e. eps=0\n",
    "  p = np.random.random()\n",
    "  if p < (1 - eps):\n",
    "    return policy[s]\n",
    "  else:\n",
    "    return np.random.choice(ALL_POSSIBLE_ACTIONS)"
   ]
  },
  {
   "cell_type": "code",
   "execution_count": 4,
   "id": "71aed3ff",
   "metadata": {},
   "outputs": [
    {
     "name": "stdout",
     "output_type": "stream",
     "text": [
      "rewards:\n",
      "---------------------------\n",
      " 0.00| 0.00| 0.00| 1.00|\n",
      "---------------------------\n",
      " 0.00| 0.00| 0.00|-1.00|\n",
      "---------------------------\n",
      " 0.00| 0.00| 0.00| 0.00|\n"
     ]
    }
   ],
   "source": [
    "# use the standard grid again (0 for every step) so that we can compare\n",
    "# to iterative policy evaluation\n",
    "grid = standard_grid()\n",
    "\n",
    "# print rewards\n",
    "print(\"rewards:\")\n",
    "print_values(grid.rewards, grid)\n"
   ]
  },
  {
   "cell_type": "code",
   "execution_count": 5,
   "id": "74e50d3c",
   "metadata": {},
   "outputs": [],
   "source": [
    "# state -> action\n",
    "policy = {\n",
    "(2, 0): 'U',\n",
    "(1, 0): 'U',\n",
    "(0, 0): 'R',\n",
    "(0, 1): 'R',\n",
    "(0, 2): 'R',\n",
    "(1, 2): 'R',\n",
    "(2, 1): 'R',\n",
    "(2, 2): 'R',\n",
    "(2, 3): 'U',\n",
    "}\n",
    "\n",
    "# initialize V(s) and returns\n",
    "V = {}\n",
    "states = grid.all_states()\n",
    "for s in states:\n",
    "    V[s] = 0"
   ]
  },
  {
   "cell_type": "code",
   "execution_count": 6,
   "id": "04ea7baa",
   "metadata": {},
   "outputs": [],
   "source": [
    "# store max change in V(s) per episode\n",
    "deltas = []\n",
    "\n",
    "# repeat until convergence\n",
    "n_episodes = 10000\n",
    "for it in range(n_episodes):\n",
    "    # begin a new episode\n",
    "    s = grid.reset()\n",
    "    \n",
    "    delta = 0\n",
    "    while not grid.game_over():\n",
    "        a = epsilon_greedy(policy, s)\n",
    "\n",
    "        r = grid.move(a)\n",
    "        s_next = grid.current_state()\n",
    "\n",
    "        # update V(s)\n",
    "        v_old = V[s]\n",
    "        V[s] = V[s] + ALPHA*(r + GAMMA*V[s_next] - V[s])\n",
    "        delta = max(delta, np.abs(V[s] - v_old))\n",
    "\n",
    "        # next state becomes current state\n",
    "        s = s_next\n",
    "\n",
    "    # store delta\n",
    "    deltas.append(delta)\n",
    "    "
   ]
  },
  {
   "cell_type": "code",
   "execution_count": 7,
   "id": "a417cccd",
   "metadata": {},
   "outputs": [
    {
     "data": {
      "image/png": "[encoded data removed]",
      "text/plain": [
       "<Figure size 640x480 with 1 Axes>"
      ]
     },
     "metadata": {},
     "output_type": "display_data"
    }
   ],
   "source": [
    "plt.plot(deltas)\n",
    "plt.show()\n"
   ]
  },
  {
   "cell_type": "code",
   "execution_count": 8,
   "id": "4ba27eb6",
   "metadata": {},
   "outputs": [
    {
     "name": "stdout",
     "output_type": "stream",
     "text": [
      "values:\n",
      "---------------------------\n",
      " 0.73| 0.80| 0.88| 0.00|\n",
      "---------------------------\n",
      " 0.66| 0.00|-0.83| 0.00|\n",
      "---------------------------\n",
      " 0.58|-0.80|-0.89|-0.98|\n",
      "policy:\n",
      "---------------------------\n",
      "  R  |  R  |  R  |     |\n",
      "---------------------------\n",
      "  U  |     |  R  |     |\n",
      "---------------------------\n",
      "  U  |  R  |  R  |  U  |\n"
     ]
    }
   ],
   "source": [
    "print(\"values:\")\n",
    "print_values(V, grid)\n",
    "print(\"policy:\")\n",
    "print_policy(policy, grid)"
   ]
  },
  {
   "cell_type": "code",
   "execution_count": null,
   "id": "7691e214",
   "metadata": {},
   "outputs": [],
   "source": []
  }
 ],
 "metadata": {
  "kernelspec": {
   "display_name": "Python 3 (ipykernel)",
   "language": "python",
   "name": "python3"
  },
  "language_info": {
   "codemirror_mode": {
    "name": "ipython",
    "version": 3
   },
   "file_extension": ".py",
   "mimetype": "text/x-python",
   "name": "python",
   "nbconvert_exporter": "python",
   "pygments_lexer": "ipython3",
   "version": "3.11.2"
  }
 },
 "nbformat": 4,
 "nbformat_minor": 5
}
