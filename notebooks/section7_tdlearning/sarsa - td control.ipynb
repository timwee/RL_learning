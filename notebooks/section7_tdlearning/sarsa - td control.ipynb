{
 "cells": [
  {
   "cell_type": "code",
   "execution_count": 7,
   "id": "2afbb142",
   "metadata": {},
   "outputs": [
    {
     "name": "stdout",
     "output_type": "stream",
     "text": [
      "The autoreload extension is already loaded. To reload it, use:\n",
      "  %reload_ext autoreload\n"
     ]
    }
   ],
   "source": [
    "%load_ext autoreload\n",
    "%autoreload 2"
   ]
  },
  {
   "cell_type": "code",
   "execution_count": 9,
   "id": "9a1dda49",
   "metadata": {},
   "outputs": [],
   "source": [
    "import numpy as np\n",
    "import matplotlib.pyplot as plt\n",
    "from gridworld import standard_grid, negative_grid\n",
    "from iterative_policy_evaluation_probabilistic import print_values, print_policy\n",
    "from monte_carlo_es import max_dict"
   ]
  },
  {
   "cell_type": "code",
   "execution_count": 10,
   "id": "10e8abbc",
   "metadata": {},
   "outputs": [],
   "source": [
    "GAMMA = 0.9\n",
    "ALPHA = 0.1\n",
    "ALL_POSSIBLE_ACTIONS = ('U', 'D', 'L', 'R')"
   ]
  },
  {
   "cell_type": "code",
   "execution_count": 11,
   "id": "e0420b6e",
   "metadata": {},
   "outputs": [],
   "source": [
    "def epsilon_greedy(Q, s, eps=0.1):\n",
    "  if np.random.random() < eps:\n",
    "    return np.random.choice(ALL_POSSIBLE_ACTIONS)\n",
    "  else:\n",
    "    a_opt = max_dict(Q[s])[0]\n",
    "    return a_opt"
   ]
  },
  {
   "cell_type": "code",
   "execution_count": 12,
   "id": "21685cfb",
   "metadata": {},
   "outputs": [
    {
     "name": "stdout",
     "output_type": "stream",
     "text": [
      "rewards:\n",
      "---------------------------\n",
      "-0.10|-0.10|-0.10| 1.00|\n",
      "---------------------------\n",
      "-0.10| 0.00|-0.10|-1.00|\n",
      "---------------------------\n",
      "-0.10|-0.10|-0.10|-0.10|\n"
     ]
    }
   ],
   "source": [
    "# grid = standard_grid()\n",
    "grid = negative_grid(step_cost=-0.1)\n",
    "\n",
    "# print rewards\n",
    "print(\"rewards:\")\n",
    "print_values(grid.rewards, grid)"
   ]
  },
  {
   "cell_type": "code",
   "execution_count": 13,
   "id": "36d16b91",
   "metadata": {},
   "outputs": [],
   "source": [
    "# initialize Q(s,a)\n",
    "Q = {}\n",
    "states = grid.all_states()\n",
    "for s in states:\n",
    "    Q[s] = {}\n",
    "    for a in ALL_POSSIBLE_ACTIONS:\n",
    "        Q[s][a] = 0"
   ]
  },
  {
   "cell_type": "code",
   "execution_count": 14,
   "id": "5f8992c9",
   "metadata": {},
   "outputs": [],
   "source": [
    "# let's also keep track of how many times Q[s] has been updated\n",
    "update_counts = {}"
   ]
  },
  {
   "cell_type": "code",
   "execution_count": 15,
   "id": "e036b643",
   "metadata": {},
   "outputs": [
    {
     "name": "stdout",
     "output_type": "stream",
     "text": [
      "it: 0\n",
      "it: 2000\n",
      "it: 4000\n",
      "it: 6000\n",
      "it: 8000\n"
     ]
    }
   ],
   "source": [
    "# repeat until convergence\n",
    "reward_per_episode = []\n",
    "for it in range(10000):\n",
    "    if it % 2000 == 0:\n",
    "        print(\"it:\", it)\n",
    "\n",
    "    # begin a new episode\n",
    "    s = grid.reset()\n",
    "    a = epsilon_greedy(Q, s, eps=0.1)\n",
    "    episode_reward = 0\n",
    "    while not grid.game_over():\n",
    "        # perform action and get next state + reward\n",
    "        r = grid.move(a)\n",
    "        s2 = grid.current_state()\n",
    "\n",
    "        # update reward\n",
    "        episode_reward += r\n",
    "\n",
    "        # get next action\n",
    "        a2 = epsilon_greedy(Q, s2, eps=0.1)\n",
    "\n",
    "        # update Q(s,a)\n",
    "        Q[s][a] = Q[s][a] + ALPHA*(r + GAMMA*Q[s2][a2] - Q[s][a])\n",
    "\n",
    "        # we would like to know how often Q(s) has been updated too\n",
    "        update_counts[s] = update_counts.get(s,0) + 1\n",
    "\n",
    "        # next state becomes current state\n",
    "        s = s2\n",
    "        a = a2\n",
    "\n",
    "    # log the reward for this episode\n",
    "    reward_per_episode.append(episode_reward)\n"
   ]
  },
  {
   "cell_type": "code",
   "execution_count": 16,
   "id": "9ac4a523",
   "metadata": {},
   "outputs": [
    {
     "data": {
      "image/png": "[encoded data removed]",
      "text/plain": [
       "<Figure size 640x480 with 1 Axes>"
      ]
     },
     "metadata": {},
     "output_type": "display_data"
    }
   ],
   "source": [
    "plt.plot(reward_per_episode)\n",
    "plt.title(\"reward_per_episode\")\n",
    "plt.show()"
   ]
  },
  {
   "cell_type": "code",
   "execution_count": 17,
   "id": "8f7bf687",
   "metadata": {},
   "outputs": [],
   "source": [
    "# determine the policy from Q*\n",
    "# find V* from Q*\n",
    "policy = {}\n",
    "V = {}\n",
    "for s in grid.actions.keys():\n",
    "    a, max_q = max_dict(Q[s])\n",
    "    policy[s] = a\n",
    "    V[s] = max_q"
   ]
  },
  {
   "cell_type": "code",
   "execution_count": 18,
   "id": "f6106275",
   "metadata": {},
   "outputs": [
    {
     "name": "stdout",
     "output_type": "stream",
     "text": [
      "update counts:\n",
      "---------------------------\n",
      " 0.20| 0.19| 0.19| 0.00|\n",
      "---------------------------\n",
      " 0.20| 0.00| 0.01| 0.00|\n",
      "---------------------------\n",
      " 0.20| 0.01| 0.01| 0.00|\n"
     ]
    }
   ],
   "source": [
    "# what's the proportion of time we spend updating each part of Q?\n",
    "print(\"update counts:\")\n",
    "total = np.sum(list(update_counts.values()))\n",
    "for k, v in update_counts.items():\n",
    "    update_counts[k] = float(v) / total\n",
    "print_values(update_counts, grid)"
   ]
  },
  {
   "cell_type": "code",
   "execution_count": 19,
   "id": "bb61cc6e",
   "metadata": {},
   "outputs": [
    {
     "name": "stdout",
     "output_type": "stream",
     "text": [
      "values:\n",
      "---------------------------\n",
      " 0.58| 0.76| 1.00| 0.00|\n",
      "---------------------------\n",
      " 0.41| 0.00| 0.80| 0.00|\n",
      "---------------------------\n",
      " 0.25| 0.40| 0.45| 0.11|\n",
      "policy:\n",
      "---------------------------\n",
      "  R  |  R  |  R  |     |\n",
      "---------------------------\n",
      "  U  |     |  U  |     |\n",
      "---------------------------\n",
      "  U  |  R  |  U  |  L  |\n"
     ]
    }
   ],
   "source": [
    "print(\"values:\")\n",
    "print_values(V, grid)\n",
    "print(\"policy:\")\n",
    "print_policy(policy, grid)"
   ]
  },
  {
   "cell_type": "code",
   "execution_count": null,
   "id": "4117da02",
   "metadata": {},
   "outputs": [],
   "source": []
  }
 ],
 "metadata": {
  "kernelspec": {
   "display_name": "Python 3 (ipykernel)",
   "language": "python",
   "name": "python3"
  },
  "language_info": {
   "codemirror_mode": {
    "name": "ipython",
    "version": 3
   },
   "file_extension": ".py",
   "mimetype": "text/x-python",
   "name": "python",
   "nbconvert_exporter": "python",
   "pygments_lexer": "ipython3",
   "version": "3.11.2"
  }
 },
 "nbformat": 4,
 "nbformat_minor": 5
}
