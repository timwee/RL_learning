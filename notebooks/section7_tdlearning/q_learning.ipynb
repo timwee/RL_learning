{
 "cells": [
  {
   "cell_type": "code",
   "execution_count": 1,
   "id": "b97890fb",
   "metadata": {},
   "outputs": [],
   "source": [
    "import numpy as np\n",
    "import matplotlib.pyplot as plt\n",
    "from gridworld import standard_grid, negative_grid\n",
    "from iterative_policy_evaluation_probabilistic import print_values, print_policy\n",
    "from monte_carlo_es import max_dict"
   ]
  },
  {
   "cell_type": "code",
   "execution_count": 2,
   "id": "9d898272",
   "metadata": {},
   "outputs": [],
   "source": [
    "GAMMA = 0.9\n",
    "ALPHA = 0.1\n",
    "ALL_POSSIBLE_ACTIONS = ('U', 'D', 'L', 'R')"
   ]
  },
  {
   "cell_type": "code",
   "execution_count": 3,
   "id": "fded5481",
   "metadata": {},
   "outputs": [],
   "source": [
    "def epsilon_greedy(Q, s, eps=0.1):\n",
    "  if np.random.random() < eps:\n",
    "    return np.random.choice(ALL_POSSIBLE_ACTIONS)\n",
    "  else:\n",
    "    a_opt = max_dict(Q[s])[0]\n",
    "    return a_opt\n"
   ]
  },
  {
   "cell_type": "code",
   "execution_count": 4,
   "id": "a8a0645d",
   "metadata": {},
   "outputs": [
    {
     "name": "stdout",
     "output_type": "stream",
     "text": [
      "rewards:\n",
      "---------------------------\n",
      "-0.10|-0.10|-0.10| 1.00|\n",
      "---------------------------\n",
      "-0.10| 0.00|-0.10|-1.00|\n",
      "---------------------------\n",
      "-0.10|-0.10|-0.10|-0.10|\n"
     ]
    }
   ],
   "source": [
    "# grid = standard_grid()\n",
    "grid = negative_grid(step_cost=-0.1)\n",
    "\n",
    "# print rewards\n",
    "print(\"rewards:\")\n",
    "print_values(grid.rewards, grid)\n",
    "\n",
    "# initialize Q(s,a)\n",
    "Q = {}\n",
    "states = grid.all_states()\n",
    "for s in states:\n",
    "    Q[s] = {}\n",
    "    for a in ALL_POSSIBLE_ACTIONS:\n",
    "        Q[s][a] = 0"
   ]
  },
  {
   "cell_type": "code",
   "execution_count": 5,
   "id": "a4aa7f44",
   "metadata": {},
   "outputs": [],
   "source": [
    "# let's also keep track of how many times Q[s] has been updated\n",
    "update_counts = {}\n"
   ]
  },
  {
   "cell_type": "code",
   "execution_count": 6,
   "id": "b21f9515",
   "metadata": {},
   "outputs": [
    {
     "name": "stdout",
     "output_type": "stream",
     "text": [
      "it: 0\n",
      "it: 2000\n",
      "it: 4000\n",
      "it: 6000\n",
      "it: 8000\n"
     ]
    }
   ],
   "source": [
    "# repeat until convergence\n",
    "reward_per_episode = []\n",
    "for it in range(10000):\n",
    "    if it % 2000 == 0:\n",
    "        print(\"it:\", it)\n",
    "\n",
    "    # begin a new episode\n",
    "    s = grid.reset()\n",
    "    episode_reward = 0\n",
    "    while not grid.game_over():\n",
    "        # perform action and get next state + reward\n",
    "        a = epsilon_greedy(Q, s, eps=0.1)\n",
    "        r = grid.move(a)\n",
    "        s2 = grid.current_state()\n",
    "\n",
    "        # update reward\n",
    "        episode_reward += r\n",
    "\n",
    "        # update Q(s,a)\n",
    "        maxQ = max_dict(Q[s2])[1]\n",
    "        Q[s][a] = Q[s][a] + ALPHA*(r + GAMMA*maxQ - Q[s][a])\n",
    "\n",
    "        # we would like to know how often Q(s) has been updated too\n",
    "        update_counts[s] = update_counts.get(s, 0) + 1\n",
    "\n",
    "        # next state becomes current state\n",
    "        s = s2\n",
    "\n",
    "    # log the reward for this episode\n",
    "    reward_per_episode.append(episode_reward)"
   ]
  },
  {
   "cell_type": "code",
   "execution_count": 7,
   "id": "f9253485",
   "metadata": {},
   "outputs": [
    {
     "data": {
      "image/png": "[encoded data removed]",
      "text/plain": [
       "<Figure size 640x480 with 1 Axes>"
      ]
     },
     "metadata": {},
     "output_type": "display_data"
    }
   ],
   "source": [
    "plt.plot(reward_per_episode)\n",
    "plt.title(\"reward_per_episode\")\n",
    "plt.show()"
   ]
  },
  {
   "cell_type": "code",
   "execution_count": 8,
   "id": "4b9963dc",
   "metadata": {},
   "outputs": [],
   "source": [
    "# determine the policy from Q*\n",
    "# find V* from Q*\n",
    "policy = {}\n",
    "V = {}\n",
    "for s in grid.actions.keys():\n",
    "    a, max_q = max_dict(Q[s])\n",
    "    policy[s] = a\n",
    "    V[s] = max_q\n"
   ]
  },
  {
   "cell_type": "code",
   "execution_count": 9,
   "id": "fa38aa78",
   "metadata": {},
   "outputs": [
    {
     "name": "stdout",
     "output_type": "stream",
     "text": [
      "update counts:\n",
      "---------------------------\n",
      " 0.01| 0.01| 0.19| 0.00|\n",
      "---------------------------\n",
      " 0.01| 0.00| 0.19| 0.00|\n",
      "---------------------------\n",
      " 0.20| 0.20| 0.20| 0.01|\n"
     ]
    }
   ],
   "source": [
    "# what's the proportion of time we spend updating each part of Q?\n",
    "print(\"update counts:\")\n",
    "total = np.sum(list(update_counts.values()))\n",
    "for k, v in update_counts.items():\n",
    "    update_counts[k] = float(v) / total\n",
    "print_values(update_counts, grid)"
   ]
  },
  {
   "cell_type": "code",
   "execution_count": 10,
   "id": "96cd1e78",
   "metadata": {},
   "outputs": [
    {
     "name": "stdout",
     "output_type": "stream",
     "text": [
      "values:\n",
      "---------------------------\n",
      " 0.62| 0.80| 1.00| 0.00|\n",
      "---------------------------\n",
      " 0.46| 0.00| 0.80| 0.00|\n",
      "---------------------------\n",
      " 0.31| 0.46| 0.62| 0.46|\n",
      "policy:\n",
      "---------------------------\n",
      "  R  |  R  |  R  |     |\n",
      "---------------------------\n",
      "  U  |     |  U  |     |\n",
      "---------------------------\n",
      "  R  |  R  |  U  |  L  |\n"
     ]
    }
   ],
   "source": [
    "print(\"values:\")\n",
    "print_values(V, grid)\n",
    "print(\"policy:\")\n",
    "print_policy(policy, grid)"
   ]
  },
  {
   "cell_type": "code",
   "execution_count": null,
   "id": "81794a2d",
   "metadata": {},
   "outputs": [],
   "source": []
  }
 ],
 "metadata": {
  "kernelspec": {
   "display_name": "Python 3 (ipykernel)",
   "language": "python",
   "name": "python3"
  },
  "language_info": {
   "codemirror_mode": {
    "name": "ipython",
    "version": 3
   },
   "file_extension": ".py",
   "mimetype": "text/x-python",
   "name": "python",
   "nbconvert_exporter": "python",
   "pygments_lexer": "ipython3",
   "version": "3.11.2"
  }
 },
 "nbformat": 4,
 "nbformat_minor": 5
}
