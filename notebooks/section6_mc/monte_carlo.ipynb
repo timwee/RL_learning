{
 "cells": [
  {
   "cell_type": "code",
   "execution_count": 31,
   "id": "3bb6da83",
   "metadata": {},
   "outputs": [
    {
     "name": "stdout",
     "output_type": "stream",
     "text": [
      "The autoreload extension is already loaded. To reload it, use:\n",
      "  %reload_ext autoreload\n"
     ]
    }
   ],
   "source": [
    "%load_ext autoreload\n",
    "%autoreload 2"
   ]
  },
  {
   "cell_type": "code",
   "execution_count": 32,
   "id": "031a830f",
   "metadata": {},
   "outputs": [],
   "source": [
    "import numpy as np\n",
    "from gridworld import standard_grid, negative_grid\n",
    "from iterative_policy_evaluation_probabilistic import print_values, print_policy\n",
    "import pandas as pd"
   ]
  },
  {
   "cell_type": "code",
   "execution_count": 2,
   "id": "ea539ae9",
   "metadata": {},
   "outputs": [],
   "source": [
    "GAMMA = 0.9"
   ]
  },
  {
   "cell_type": "markdown",
   "id": "1de638dd",
   "metadata": {},
   "source": [
    "# MC Policy Eval"
   ]
  },
  {
   "cell_type": "code",
   "execution_count": 3,
   "id": "3d39be88",
   "metadata": {},
   "outputs": [],
   "source": [
    "# NOTE: this is only policy evaluation, not optimization\n",
    "\n",
    "def play_game(grid, policy, max_steps=20):\n",
    "  # returns a list of states and corresponding returns\n",
    "\n",
    "  # reset game to start at a random position\n",
    "  # we need to do this, because given our current deterministic policy\n",
    "  # we would never end up at certain states, but we still want to measure their value\n",
    "  start_states = list(grid.actions.keys())\n",
    "  start_idx = np.random.choice(len(start_states))\n",
    "  grid.set_state(start_states[start_idx])\n",
    "\n",
    "  s = grid.current_state()\n",
    "\n",
    "  # keep track of all states and rewards encountered\n",
    "  states = [s]\n",
    "  rewards = [0]\n",
    "\n",
    "  steps = 0\n",
    "  while not grid.game_over():\n",
    "    a = policy[s]\n",
    "    r = grid.move(a)\n",
    "    next_s = grid.current_state()\n",
    "\n",
    "    # update states and rewards lists\n",
    "    states.append(next_s)\n",
    "    rewards.append(r)\n",
    "\n",
    "    steps += 1\n",
    "    if steps >= max_steps:\n",
    "      break\n",
    "\n",
    "    # update state\n",
    "    # note: there is no need to store the final terminal state\n",
    "    s = next_s\n",
    "\n",
    "  # we want to return:\n",
    "  # states  = [s(0), s(1), ..., S(T)]\n",
    "  # rewards = [R(0), R(1), ..., R(T)]\n",
    "\n",
    "  return states, rewards"
   ]
  },
  {
   "cell_type": "code",
   "execution_count": 4,
   "id": "8964c0da",
   "metadata": {},
   "outputs": [
    {
     "name": "stdout",
     "output_type": "stream",
     "text": [
      "rewards:\n",
      "---------------------------\n",
      " 0.00| 0.00| 0.00| 1.00|\n",
      "---------------------------\n",
      " 0.00| 0.00| 0.00|-1.00|\n",
      "---------------------------\n",
      " 0.00| 0.00| 0.00| 0.00|\n"
     ]
    }
   ],
   "source": [
    "# use the standard grid again (0 for every step) so that we can compare\n",
    "# to iterative policy evaluation\n",
    "grid = standard_grid()\n",
    "\n",
    "# print rewards\n",
    "print(\"rewards:\")\n",
    "print_values(grid.rewards, grid)\n",
    "\n",
    "# state -> action\n",
    "policy = {\n",
    "    (2, 0): 'U',\n",
    "    (1, 0): 'U',\n",
    "    (0, 0): 'R',\n",
    "    (0, 1): 'R',\n",
    "    (0, 2): 'R',\n",
    "    (1, 2): 'R',\n",
    "    (2, 1): 'R',\n",
    "    (2, 2): 'R',\n",
    "    (2, 3): 'U',\n",
    "}\n"
   ]
  },
  {
   "cell_type": "code",
   "execution_count": 5,
   "id": "09c220b0",
   "metadata": {},
   "outputs": [
    {
     "name": "stdout",
     "output_type": "stream",
     "text": [
      "values:\n",
      "---------------------------\n",
      " 0.81| 0.90| 1.00| 0.00|\n",
      "---------------------------\n",
      " 0.73| 0.00|-1.00| 0.00|\n",
      "---------------------------\n",
      " 0.66|-0.81|-0.90|-1.00|\n",
      "policy:\n",
      "---------------------------\n",
      "  R  |  R  |  R  |     |\n",
      "---------------------------\n",
      "  U  |     |  R  |     |\n",
      "---------------------------\n",
      "  U  |  R  |  R  |  U  |\n"
     ]
    }
   ],
   "source": [
    "# initialize V(s) and returns\n",
    "V = {}\n",
    "returns = {} # dictionary of state -> list of returns we've received\n",
    "states = grid.all_states()\n",
    "for s in states:\n",
    "    if s in grid.actions:\n",
    "        returns[s] = []\n",
    "    else:\n",
    "        # terminal state or state we can't otherwise get to\n",
    "        V[s] = 0\n",
    "\n",
    "# repeat\n",
    "for _ in range(100):\n",
    "    # generate an episode using pi\n",
    "    states, rewards = play_game(grid, policy)\n",
    "    G = 0\n",
    "    T = len(states)\n",
    "    for t in range(T - 2, -1, -1):\n",
    "        s = states[t]\n",
    "        r = rewards[t+1]\n",
    "        G = r + GAMMA * G # update return\n",
    "\n",
    "        # we'll use first-visit Monte Carlo\n",
    "        if s not in states[:t]:\n",
    "            returns[s].append(G)\n",
    "            V[s] = np.mean(returns[s])\n",
    "\n",
    "print(\"values:\")\n",
    "print_values(V, grid)\n",
    "print(\"policy:\")\n",
    "print_policy(policy, grid)"
   ]
  },
  {
   "cell_type": "markdown",
   "id": "a4e839d8",
   "metadata": {},
   "source": [
    "# Policy Iteration with Exploring Starts"
   ]
  },
  {
   "cell_type": "code",
   "execution_count": 8,
   "id": "7495ee29",
   "metadata": {},
   "outputs": [],
   "source": [
    "import matplotlib.pyplot as plt\n",
    "from gridworld import standard_grid, negative_grid"
   ]
  },
  {
   "cell_type": "code",
   "execution_count": 9,
   "id": "cc7cbdfe",
   "metadata": {},
   "outputs": [],
   "source": [
    "GAMMA = 0.9\n",
    "ALL_POSSIBLE_ACTIONS = ('U', 'D', 'L', 'R')"
   ]
  },
  {
   "cell_type": "code",
   "execution_count": 10,
   "id": "f3c75aee",
   "metadata": {},
   "outputs": [],
   "source": [
    "# NOTE: this script implements the Monte Carlo Exploring-Starts method\n",
    "#       for finding the optimal policy\n",
    "\n",
    "\n",
    "def play_game(grid, policy, max_steps=20):\n",
    "  # reset game to start at a random position\n",
    "  # we need to do this if we have a deterministic policy\n",
    "  # we would never end up at certain states, but we still want to measure their value\n",
    "  # this is called the \"exploring starts\" method\n",
    "  start_states = list(grid.actions.keys())\n",
    "  start_idx = np.random.choice(len(start_states))\n",
    "  grid.set_state(start_states[start_idx])\n",
    "\n",
    "  s = grid.current_state()\n",
    "  a = np.random.choice(ALL_POSSIBLE_ACTIONS) # first action is uniformly random\n",
    "\n",
    "  states = [s]\n",
    "  actions = [a]\n",
    "  rewards = [0]\n",
    "\n",
    "  for _ in range(max_steps):\n",
    "    r = grid.move(a)\n",
    "    s = grid.current_state()\n",
    "\n",
    "    rewards.append(r)\n",
    "    states.append(s)\n",
    "    \n",
    "    if grid.game_over():\n",
    "      break\n",
    "    else:\n",
    "      a = policy[s]\n",
    "      actions.append(a)\n",
    "\n",
    "  # we want to return:\n",
    "  # states  = [s(0), s(1), ..., s(T-1), s(T)]\n",
    "  # actions = [a(0), a(1), ..., a(T-1),     ]\n",
    "  # rewards = [   0, R(1), ..., R(T-1), R(T)]\n",
    "\n",
    "  return states, actions, rewards"
   ]
  },
  {
   "cell_type": "code",
   "execution_count": 11,
   "id": "98f48f50",
   "metadata": {},
   "outputs": [],
   "source": [
    "def max_dict(d):\n",
    "  # returns the argmax (key) and max (value) from a dictionary\n",
    "  # put this into a function since we are using it so often\n",
    "\n",
    "  # find max val\n",
    "  max_val = max(d.values())\n",
    "\n",
    "  # find keys corresponding to max val\n",
    "  max_keys = [key for key, val in d.items() if val == max_val]\n",
    "\n",
    "  ### slow version\n",
    "  # max_keys = []\n",
    "  # for key, val in d.items():\n",
    "  #   if val == max_val:\n",
    "  #     max_keys.append(key)\n",
    "\n",
    "  return np.random.choice(max_keys), max_val"
   ]
  },
  {
   "cell_type": "code",
   "execution_count": 12,
   "id": "cd412bf0",
   "metadata": {},
   "outputs": [
    {
     "name": "stdout",
     "output_type": "stream",
     "text": [
      "rewards:\n",
      "---------------------------\n",
      " 0.00| 0.00| 0.00| 1.00|\n",
      "---------------------------\n",
      " 0.00| 0.00| 0.00|-1.00|\n",
      "---------------------------\n",
      " 0.00| 0.00| 0.00| 0.00|\n"
     ]
    }
   ],
   "source": [
    "# use the standard grid again (0 for every step) so that we can compare\n",
    "# to iterative policy evaluation\n",
    "grid = standard_grid()\n",
    "# try the negative grid too, to see if agent will learn to go past the \"bad spot\"\n",
    "# in order to minimize number of steps\n",
    "# grid = negative_grid(step_cost=-0.1)\n",
    "\n",
    "# print rewards\n",
    "print(\"rewards:\")\n",
    "print_values(grid.rewards, grid)\n"
   ]
  },
  {
   "cell_type": "code",
   "execution_count": 13,
   "id": "01994d5c",
   "metadata": {},
   "outputs": [],
   "source": [
    " # state -> action\n",
    "# initialize a random policy\n",
    "policy = {}\n",
    "for s in grid.actions.keys():\n",
    "    policy[s] = np.random.choice(ALL_POSSIBLE_ACTIONS)"
   ]
  },
  {
   "cell_type": "code",
   "execution_count": 14,
   "id": "d1160187",
   "metadata": {},
   "outputs": [],
   "source": [
    "# initialize Q(s,a) and returns\n",
    "Q = {}\n",
    "sample_counts = {}\n",
    "states = grid.all_states()\n",
    "for s in states:\n",
    "    if s in grid.actions: # not a terminal state\n",
    "        Q[s] = {}\n",
    "        sample_counts[s] = {}\n",
    "        for a in ALL_POSSIBLE_ACTIONS:\n",
    "            Q[s][a] = 0\n",
    "            sample_counts[s][a] = 0\n",
    "    else:\n",
    "        # terminal state or state we can't otherwise get to\n",
    "        pass"
   ]
  },
  {
   "cell_type": "code",
   "execution_count": 15,
   "id": "2e388363",
   "metadata": {},
   "outputs": [
    {
     "name": "stdout",
     "output_type": "stream",
     "text": [
      "0\n",
      "1000\n",
      "2000\n",
      "3000\n",
      "4000\n",
      "5000\n",
      "6000\n",
      "7000\n",
      "8000\n",
      "9000\n"
     ]
    }
   ],
   "source": [
    "# repeat until convergence\n",
    "deltas = []\n",
    "for it in range(10000):\n",
    "    if it % 1000 == 0:\n",
    "        print(it)\n",
    "\n",
    "    # generate an episode using pi\n",
    "    biggest_change = 0\n",
    "    states, actions, rewards = play_game(grid, policy)\n",
    "\n",
    "    # create a list of only state-action pairs for lookup\n",
    "    states_actions = list(zip(states, actions))\n",
    "\n",
    "    T = len(states)\n",
    "    G = 0\n",
    "    for t in range(T - 2, -1, -1):\n",
    "        # retrieve current s, a, r tuple\n",
    "        s = states[t]\n",
    "        a = actions[t]\n",
    "\n",
    "        # update G\n",
    "        G = rewards[t+1] + GAMMA * G\n",
    "\n",
    "        # check if we have already seen (s, a) (\"first-visit\")\n",
    "        if (s, a) not in states_actions[:t]:\n",
    "            old_q = Q[s][a]\n",
    "            sample_counts[s][a] += 1\n",
    "            lr = 1 / sample_counts[s][a]\n",
    "            Q[s][a] = old_q + lr * (G - old_q)\n",
    "\n",
    "            # update policy\n",
    "            policy[s] = max_dict(Q[s])[0]\n",
    "\n",
    "            # update delta\n",
    "            biggest_change = max(biggest_change, np.abs(old_q - Q[s][a]))\n",
    "    deltas.append(biggest_change)\n"
   ]
  },
  {
   "cell_type": "code",
   "execution_count": 16,
   "id": "ae5bc327",
   "metadata": {},
   "outputs": [
    {
     "data": {
      "image/png": "[encoded data removed]",
      "text/plain": [
       "<Figure size 640x480 with 1 Axes>"
      ]
     },
     "metadata": {},
     "output_type": "display_data"
    }
   ],
   "source": [
    "plt.plot(deltas)\n",
    "plt.show()"
   ]
  },
  {
   "cell_type": "code",
   "execution_count": 17,
   "id": "3ee0b7cf",
   "metadata": {},
   "outputs": [
    {
     "name": "stdout",
     "output_type": "stream",
     "text": [
      "final policy:\n",
      "---------------------------\n",
      "  R  |  R  |  R  |     |\n",
      "---------------------------\n",
      "  U  |     |  U  |     |\n",
      "---------------------------\n",
      "  R  |  R  |  U  |  L  |\n"
     ]
    }
   ],
   "source": [
    "print(\"final policy:\")\n",
    "print_policy(policy, grid)"
   ]
  },
  {
   "cell_type": "code",
   "execution_count": 18,
   "id": "0fa200e0",
   "metadata": {},
   "outputs": [
    {
     "name": "stdout",
     "output_type": "stream",
     "text": [
      "final values:\n",
      "---------------------------\n",
      " 0.81| 0.90| 1.00| 0.00|\n",
      "---------------------------\n",
      " 0.73| 0.00| 0.90| 0.00|\n",
      "---------------------------\n",
      " 0.65| 0.73| 0.81| 0.73|\n"
     ]
    }
   ],
   "source": [
    "# find V\n",
    "V = {}\n",
    "for s, Qs in Q.items():\n",
    "    V[s] = max_dict(Q[s])[1]\n",
    "\n",
    "print(\"final values:\")\n",
    "print_values(V, grid)"
   ]
  },
  {
   "cell_type": "markdown",
   "id": "2eb59d47",
   "metadata": {},
   "source": [
    "# MC no Exploring Starts - Epsilon Greedy"
   ]
  },
  {
   "cell_type": "code",
   "execution_count": 19,
   "id": "e29f52fd",
   "metadata": {},
   "outputs": [],
   "source": [
    "def epsilon_greedy(policy, s, eps=0.1):\n",
    "  p = np.random.random()\n",
    "  if p < (1 - eps):\n",
    "    return policy[s]\n",
    "  else:\n",
    "    return np.random.choice(ALL_POSSIBLE_ACTIONS)"
   ]
  },
  {
   "cell_type": "code",
   "execution_count": 20,
   "id": "36d30ba2",
   "metadata": {},
   "outputs": [],
   "source": [
    "def play_game(grid, policy, max_steps=20):\n",
    "\n",
    "  # start state\n",
    "  s = grid.reset()\n",
    "\n",
    "  # choose action\n",
    "  a = epsilon_greedy(policy, s)\n",
    "\n",
    "  states = [s]\n",
    "  actions = [a]\n",
    "  rewards = [0]\n",
    "\n",
    "  for _ in range(max_steps):\n",
    "    r = grid.move(a)\n",
    "    s = grid.current_state()\n",
    "\n",
    "    rewards.append(r)\n",
    "    states.append(s)\n",
    "    \n",
    "    if grid.game_over():\n",
    "      break\n",
    "    else:\n",
    "      a = epsilon_greedy(policy, s)\n",
    "      actions.append(a)\n",
    "\n",
    "  # we want to return:\n",
    "  # states  = [s(0), s(1), ..., s(T-1), s(T)]\n",
    "  # actions = [a(0), a(1), ..., a(T-1),     ]\n",
    "  # rewards = [   0, R(1), ..., R(T-1), R(T)]\n",
    "\n",
    "  return states, actions, rewards"
   ]
  },
  {
   "cell_type": "code",
   "execution_count": 21,
   "id": "5a84e2c4",
   "metadata": {},
   "outputs": [
    {
     "name": "stdout",
     "output_type": "stream",
     "text": [
      "rewards:\n",
      "---------------------------\n",
      " 0.00| 0.00| 0.00| 1.00|\n",
      "---------------------------\n",
      " 0.00| 0.00| 0.00|-1.00|\n",
      "---------------------------\n",
      " 0.00| 0.00| 0.00| 0.00|\n"
     ]
    }
   ],
   "source": [
    "# use the standard grid again (0 for every step) so that we can compare\n",
    "# to iterative policy evaluation\n",
    "grid = standard_grid()\n",
    "# try the negative grid too, to see if agent will learn to go past the \"bad spot\"\n",
    "# in order to minimize number of steps\n",
    "# grid = negative_grid(step_cost=-0.1)\n",
    "\n",
    "# print rewards\n",
    "print(\"rewards:\")\n",
    "print_values(grid.rewards, grid)"
   ]
  },
  {
   "cell_type": "code",
   "execution_count": 22,
   "id": "d76b44f4",
   "metadata": {},
   "outputs": [],
   "source": [
    "# state -> action\n",
    "# initialize a random policy\n",
    "policy = {}\n",
    "for s in grid.actions.keys():\n",
    "    policy[s] = np.random.choice(ALL_POSSIBLE_ACTIONS)"
   ]
  },
  {
   "cell_type": "code",
   "execution_count": 23,
   "id": "dfaa6c0f",
   "metadata": {},
   "outputs": [],
   "source": [
    "# initialize Q(s,a) and returns\n",
    "Q = {}\n",
    "sample_counts = {}\n",
    "state_sample_count = {}\n",
    "states = grid.all_states()\n",
    "for s in states:\n",
    "    if s in grid.actions: # not a terminal state\n",
    "        Q[s] = {}\n",
    "        sample_counts[s] = {}\n",
    "        state_sample_count[s] = 0\n",
    "        for a in ALL_POSSIBLE_ACTIONS:\n",
    "            Q[s][a] = 0\n",
    "            sample_counts[s][a] = 0\n",
    "    else:\n",
    "      # terminal state or state we can't otherwise get to\n",
    "      pass"
   ]
  },
  {
   "cell_type": "code",
   "execution_count": 25,
   "id": "91d887a9",
   "metadata": {},
   "outputs": [
    {
     "name": "stdout",
     "output_type": "stream",
     "text": [
      "0\n",
      "1000\n",
      "2000\n",
      "3000\n",
      "4000\n",
      "5000\n",
      "6000\n",
      "7000\n",
      "8000\n",
      "9000\n"
     ]
    }
   ],
   "source": [
    "# repeat until convergence\n",
    "deltas = []\n",
    "for it in range(10000):\n",
    "    if it % 1000 == 0:\n",
    "        print(it)\n",
    "\n",
    "    # generate an episode using pi\n",
    "    biggest_change = 0\n",
    "    states, actions, rewards = play_game(grid, policy)\n",
    "\n",
    "    # create a list of only state-action pairs for lookup\n",
    "    states_actions = list(zip(states, actions))\n",
    "\n",
    "    T = len(states)\n",
    "    G = 0\n",
    "    for t in range(T - 2, -1, -1):\n",
    "        # retrieve current s, a, r tuple\n",
    "        s = states[t]\n",
    "        a = actions[t]\n",
    "\n",
    "        # update G\n",
    "        G = rewards[t+1] + GAMMA * G\n",
    "\n",
    "        # check if we have already seen (s, a) (\"first-visit\")\n",
    "        if (s, a) not in states_actions[:t]:\n",
    "            old_q = Q[s][a]\n",
    "            sample_counts[s][a] += 1\n",
    "            lr = 1 / sample_counts[s][a]\n",
    "            Q[s][a] = old_q + lr * (G - old_q)\n",
    "\n",
    "        # update policy\n",
    "        policy[s] = max_dict(Q[s])[0]\n",
    "\n",
    "        # update state sample count\n",
    "        state_sample_count[s] += 1\n",
    "\n",
    "        # update delta\n",
    "        biggest_change = max(biggest_change, np.abs(old_q - Q[s][a]))\n",
    "    deltas.append(biggest_change)\n"
   ]
  },
  {
   "cell_type": "code",
   "execution_count": 26,
   "id": "38e48d0b",
   "metadata": {},
   "outputs": [
    {
     "data": {
      "image/png": "[encoded data removed]",
      "text/plain": [
       "<Figure size 640x480 with 1 Axes>"
      ]
     },
     "metadata": {},
     "output_type": "display_data"
    }
   ],
   "source": [
    "plt.plot(deltas)\n",
    "plt.show()"
   ]
  },
  {
   "cell_type": "code",
   "execution_count": 27,
   "id": "8f30510b",
   "metadata": {},
   "outputs": [
    {
     "name": "stdout",
     "output_type": "stream",
     "text": [
      "final policy:\n",
      "---------------------------\n",
      "  R  |  R  |  R  |     |\n",
      "---------------------------\n",
      "  U  |     |  U  |     |\n",
      "---------------------------\n",
      "  U  |  L  |  U  |  R  |\n"
     ]
    }
   ],
   "source": [
    "print(\"final policy:\")\n",
    "print_policy(policy, grid)"
   ]
  },
  {
   "cell_type": "code",
   "execution_count": 28,
   "id": "b9a07c42",
   "metadata": {},
   "outputs": [
    {
     "name": "stdout",
     "output_type": "stream",
     "text": [
      "final values:\n",
      "---------------------------\n",
      " 0.79| 0.88| 1.00| 0.00|\n",
      "---------------------------\n",
      " 0.70| 0.00| 0.87| 0.00|\n",
      "---------------------------\n",
      " 0.61| 0.44| 0.67| 0.00|\n"
     ]
    }
   ],
   "source": [
    "# find V\n",
    "V = {}\n",
    "for s, Qs in Q.items():\n",
    "    V[s] = max_dict(Q[s])[1]\n",
    "\n",
    "print(\"final values:\")\n",
    "print_values(V, grid)"
   ]
  },
  {
   "cell_type": "code",
   "execution_count": 33,
   "id": "becd952d",
   "metadata": {},
   "outputs": [
    {
     "name": "stdout",
     "output_type": "stream",
     "text": [
      "state_sample_count:\n",
      "         0        1        2     3\n",
      "0  11007.0  10802.0  10441.0   0.0\n",
      "1  11745.0      0.0    319.0   0.0\n",
      "2  16358.0   1013.0    118.0  44.0\n"
     ]
    }
   ],
   "source": [
    "\n",
    "\n",
    "print(\"state_sample_count:\")\n",
    "state_sample_count_arr = np.zeros((grid.rows, grid.cols))\n",
    "for i in range(grid.rows):\n",
    "    for j in range(grid.cols):\n",
    "        if (i, j) in state_sample_count:\n",
    "            state_sample_count_arr[i,j] = state_sample_count[(i, j)]\n",
    "df = pd.DataFrame(state_sample_count_arr)\n",
    "print(df)"
   ]
  },
  {
   "cell_type": "code",
   "execution_count": null,
   "id": "dfc479b7",
   "metadata": {},
   "outputs": [],
   "source": []
  }
 ],
 "metadata": {
  "kernelspec": {
   "display_name": "Python 3 (ipykernel)",
   "language": "python",
   "name": "python3"
  },
  "language_info": {
   "codemirror_mode": {
    "name": "ipython",
    "version": 3
   },
   "file_extension": ".py",
   "mimetype": "text/x-python",
   "name": "python",
   "nbconvert_exporter": "python",
   "pygments_lexer": "ipython3",
   "version": "3.11.2"
  }
 },
 "nbformat": 4,
 "nbformat_minor": 5
}
