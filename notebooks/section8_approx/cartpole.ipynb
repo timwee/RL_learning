{
 "cells": [
  {
   "cell_type": "code",
   "execution_count": 17,
   "id": "c8a6ca5c",
   "metadata": {},
   "outputs": [
    {
     "name": "stdout",
     "output_type": "stream",
     "text": [
      "The autoreload extension is already loaded. To reload it, use:\n",
      "  %reload_ext autoreload\n"
     ]
    }
   ],
   "source": [
    "%load_ext autoreload\n",
    "%autoreload 2"
   ]
  },
  {
   "cell_type": "code",
   "execution_count": 18,
   "id": "6c6e78aa",
   "metadata": {},
   "outputs": [],
   "source": [
    "import gym\n",
    "import numpy as np\n",
    "import matplotlib.pyplot as plt\n",
    "from sklearn.kernel_approximation import RBFSampler"
   ]
  },
  {
   "cell_type": "code",
   "execution_count": 19,
   "id": "0b037d8c",
   "metadata": {},
   "outputs": [],
   "source": [
    "# discount factor for rewards\n",
    "GAMMA = 0.99\n",
    "# weight update learning rate\n",
    "ALPHA = 0.1"
   ]
  },
  {
   "cell_type": "code",
   "execution_count": 20,
   "id": "ad01e722",
   "metadata": {},
   "outputs": [],
   "source": [
    "def epsilon_greedy(model, s, eps=0.1):\n",
    "  # we'll use epsilon-soft to ensure all states are visited\n",
    "  # what happens if you don't do this? i.e. eps=0\n",
    "  p = np.random.random()\n",
    "  if p < (1 - eps):\n",
    "    values = model.predict_all_actions(s)\n",
    "    return np.argmax(values)\n",
    "  else:\n",
    "    return model.env.action_space.sample()"
   ]
  },
  {
   "cell_type": "code",
   "execution_count": 21,
   "id": "f340b007",
   "metadata": {},
   "outputs": [],
   "source": [
    "def gather_samples(env, n_episodes=10000):\n",
    "  samples = []\n",
    "  for _ in range(n_episodes):\n",
    "    s, info = env.reset()\n",
    "    done = False\n",
    "    truncated = False\n",
    "    while not (done or truncated):\n",
    "      a = env.action_space.sample()\n",
    "      sa = np.concatenate((s, [a]))\n",
    "      samples.append(sa)\n",
    "\n",
    "      s, r, done, truncated, info = env.step(a)\n",
    "  return samples"
   ]
  },
  {
   "cell_type": "code",
   "execution_count": 22,
   "id": "29e58c1d",
   "metadata": {},
   "outputs": [],
   "source": [
    "class Model:\n",
    "  def __init__(self, env):\n",
    "    # fit the featurizer to data\n",
    "    self.env = env\n",
    "    samples = gather_samples(env)\n",
    "    self.featurizer = RBFSampler()\n",
    "    self.featurizer.fit(samples)\n",
    "    dims = self.featurizer.n_components\n",
    "\n",
    "    # initialize linear model weights\n",
    "    self.w = np.zeros(dims)\n",
    "\n",
    "  def predict(self, s, a):\n",
    "    sa = np.concatenate((s, [a]))\n",
    "    x = self.featurizer.transform([sa])[0]\n",
    "    return x @ self.w\n",
    "\n",
    "  def predict_all_actions(self, s):\n",
    "    return [self.predict(s, a) for a in range(self.env.action_space.n)]\n",
    "\n",
    "  def grad(self, s, a):\n",
    "    sa = np.concatenate((s, [a]))\n",
    "    x = self.featurizer.transform([sa])[0]\n",
    "    return x\n"
   ]
  },
  {
   "cell_type": "code",
   "execution_count": 23,
   "id": "466a2c05",
   "metadata": {},
   "outputs": [],
   "source": [
    "def test_agent(model, env, n_episodes=20):\n",
    "  reward_per_episode = np.zeros(n_episodes)\n",
    "  for it in range(n_episodes):\n",
    "    done = False\n",
    "    truncated = False\n",
    "    episode_reward = 0\n",
    "    s, info = env.reset()\n",
    "    while not (done or truncated):\n",
    "      a = epsilon_greedy(model, s, eps=0)\n",
    "      s, r, done, truncated, info = env.step(a)\n",
    "      episode_reward += r\n",
    "    reward_per_episode[it] = episode_reward\n",
    "  return np.mean(reward_per_episode)"
   ]
  },
  {
   "cell_type": "code",
   "execution_count": 24,
   "id": "9f14df20",
   "metadata": {},
   "outputs": [],
   "source": [
    "def watch_agent(model, env, eps):\n",
    "  done = False\n",
    "  truncated = False\n",
    "  episode_reward = 0\n",
    "  s, info = env.reset()\n",
    "  while not (done or truncated):\n",
    "    a = epsilon_greedy(model, s, eps=eps)\n",
    "    s, r, done, truncated, info = env.step(a)\n",
    "    episode_reward += r\n",
    "  print(\"Episode reward:\", episode_reward)"
   ]
  },
  {
   "cell_type": "code",
   "execution_count": 25,
   "id": "6569d49e",
   "metadata": {},
   "outputs": [],
   "source": [
    "# instantiate environment\n",
    "env = gym.make(\"CartPole-v1\", render_mode=\"rgb_array\")"
   ]
  },
  {
   "cell_type": "code",
   "execution_count": 26,
   "id": "8e0ebed8",
   "metadata": {},
   "outputs": [
    {
     "name": "stderr",
     "output_type": "stream",
     "text": [
      "/Users/vn55kbe/Library/Caches/pypoetry/virtualenvs/udemy-rl-lazyprog-mg6LNPs4-py3.11/lib/python3.11/site-packages/gym/utils/passive_env_checker.py:233: DeprecationWarning: `np.bool8` is a deprecated alias for `np.bool_`.  (Deprecated NumPy 1.24)\n",
      "  if not isinstance(terminated, (bool, np.bool8)):\n"
     ]
    }
   ],
   "source": [
    "model = Model(env)\n",
    "reward_per_episode = []"
   ]
  },
  {
   "cell_type": "code",
   "execution_count": 27,
   "id": "74c83054",
   "metadata": {},
   "outputs": [
    {
     "name": "stdout",
     "output_type": "stream",
     "text": [
      "Episode reward: 9.0\n"
     ]
    }
   ],
   "source": [
    "# watch untrained agent\n",
    "watch_agent(model, env, eps=0)"
   ]
  },
  {
   "cell_type": "code",
   "execution_count": 28,
   "id": "a38ad2e7",
   "metadata": {},
   "outputs": [
    {
     "name": "stdout",
     "output_type": "stream",
     "text": [
      "Episode: 50, Reward: 17.0\n",
      "Episode: 100, Reward: 22.0\n",
      "Episode: 150, Reward: 50.0\n",
      "Episode: 200, Reward: 58.0\n",
      "Episode: 250, Reward: 69.0\n",
      "Episode: 300, Reward: 76.0\n",
      "Episode: 350, Reward: 197.0\n",
      "Episode: 400, Reward: 92.0\n",
      "Episode: 450, Reward: 137.0\n",
      "Episode: 500, Reward: 165.0\n",
      "Episode: 550, Reward: 102.0\n",
      "Episode: 600, Reward: 131.0\n",
      "Episode: 650, Reward: 154.0\n",
      "Episode: 700, Reward: 173.0\n",
      "Episode: 750, Reward: 399.0\n",
      "Episode: 800, Reward: 67.0\n",
      "Episode: 850, Reward: 166.0\n",
      "Episode: 900, Reward: 154.0\n",
      "Episode: 950, Reward: 266.0\n",
      "Episode: 1000, Reward: 49.0\n",
      "Episode: 1050, Reward: 121.0\n",
      "Episode: 1100, Reward: 216.0\n",
      "Episode: 1150, Reward: 136.0\n",
      "Episode: 1200, Reward: 198.0\n",
      "Episode: 1250, Reward: 370.0\n",
      "Episode: 1300, Reward: 282.0\n",
      "Episode: 1350, Reward: 223.0\n",
      "Episode: 1400, Reward: 191.0\n",
      "Episode: 1450, Reward: 356.0\n",
      "Episode: 1500, Reward: 500.0\n"
     ]
    }
   ],
   "source": [
    "# repeat until convergence\n",
    "n_episodes = 1500\n",
    "for it in range(n_episodes):\n",
    "    s, info = env.reset()\n",
    "    episode_reward = 0\n",
    "    done = False\n",
    "    truncated = False\n",
    "    while not (done or truncated):\n",
    "        a = epsilon_greedy(model, s)\n",
    "        s2, r, done, truncated, info = env.step(a)\n",
    "\n",
    "        # get the target\n",
    "        if done:\n",
    "            target = r\n",
    "        else:\n",
    "            values = model.predict_all_actions(s2)\n",
    "            target = r + GAMMA * np.max(values)\n",
    "\n",
    "        # update the model\n",
    "        g = model.grad(s, a)\n",
    "        err = target - model.predict(s, a)\n",
    "        model.w += ALPHA * err * g\n",
    "\n",
    "        # accumulate reward\n",
    "        episode_reward += r\n",
    "\n",
    "        # update state\n",
    "        s = s2\n",
    "\n",
    "    if (it + 1) % 50 == 0:\n",
    "        print(f\"Episode: {it + 1}, Reward: {episode_reward}\")\n",
    "\n",
    "    # early exit\n",
    "    if it > 20 and np.mean(reward_per_episode[-20:]) == 200:\n",
    "        print(\"Early exit\")\n",
    "        break\n",
    "\n",
    "    reward_per_episode.append(episode_reward)"
   ]
  },
  {
   "cell_type": "code",
   "execution_count": 29,
   "id": "8158448d",
   "metadata": {},
   "outputs": [
    {
     "name": "stdout",
     "output_type": "stream",
     "text": [
      "Average test reward: 500.0\n"
     ]
    }
   ],
   "source": [
    "# test trained agent\n",
    "test_reward = test_agent(model, env)\n",
    "print(f\"Average test reward: {test_reward}\")"
   ]
  },
  {
   "cell_type": "code",
   "execution_count": 30,
   "id": "e30059d1",
   "metadata": {},
   "outputs": [
    {
     "data": {
      "image/png": "[encoded data removed]",
      "text/plain": [
       "<Figure size 640x480 with 1 Axes>"
      ]
     },
     "metadata": {},
     "output_type": "display_data"
    }
   ],
   "source": [
    "plt.plot(reward_per_episode)\n",
    "plt.title(\"Reward per episode\")\n",
    "plt.show()"
   ]
  },
  {
   "cell_type": "code",
   "execution_count": 31,
   "id": "01667897",
   "metadata": {},
   "outputs": [
    {
     "name": "stderr",
     "output_type": "stream",
     "text": [
      "/Users/vn55kbe/Library/Caches/pypoetry/virtualenvs/udemy-rl-lazyprog-mg6LNPs4-py3.11/lib/python3.11/site-packages/gym/utils/passive_env_checker.py:233: DeprecationWarning: `np.bool8` is a deprecated alias for `np.bool_`.  (Deprecated NumPy 1.24)\n",
      "  if not isinstance(terminated, (bool, np.bool8)):\n"
     ]
    },
    {
     "name": "stdout",
     "output_type": "stream",
     "text": [
      "Episode reward: 500.0\n"
     ]
    }
   ],
   "source": [
    "# watch trained agent\n",
    "\n",
    "# this may freeze your computer\n",
    "\n",
    "#env = gym.make(\"CartPole-v1\", render_mode=\"human\")\n",
    "#watch_agent(model, env, eps=0)"
   ]
  },
  {
   "cell_type": "code",
   "execution_count": null,
   "id": "236d0b12",
   "metadata": {},
   "outputs": [],
   "source": []
  },
  {
   "cell_type": "code",
   "execution_count": null,
   "id": "d54ffb33",
   "metadata": {},
   "outputs": [],
   "source": []
  },
  {
   "cell_type": "code",
   "execution_count": null,
   "id": "6d4faee8",
   "metadata": {},
   "outputs": [],
   "source": []
  },
  {
   "cell_type": "code",
   "execution_count": null,
   "id": "0578ec6f",
   "metadata": {},
   "outputs": [],
   "source": []
  },
  {
   "cell_type": "code",
   "execution_count": null,
   "id": "89883401",
   "metadata": {},
   "outputs": [],
   "source": []
  },
  {
   "cell_type": "code",
   "execution_count": null,
   "id": "9822e271",
   "metadata": {},
   "outputs": [],
   "source": []
  }
 ],
 "metadata": {
  "kernelspec": {
   "display_name": "Python 3 (ipykernel)",
   "language": "python",
   "name": "python3"
  },
  "language_info": {
   "codemirror_mode": {
    "name": "ipython",
    "version": 3
   },
   "file_extension": ".py",
   "mimetype": "text/x-python",
   "name": "python",
   "nbconvert_exporter": "python",
   "pygments_lexer": "ipython3",
   "version": "3.11.2"
  }
 },
 "nbformat": 4,
 "nbformat_minor": 5
}
