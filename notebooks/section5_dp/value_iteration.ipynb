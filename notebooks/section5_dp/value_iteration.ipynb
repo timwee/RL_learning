{
 "cells": [
  {
   "cell_type": "code",
   "execution_count": 25,
   "id": "36b8ded8",
   "metadata": {},
   "outputs": [],
   "source": [
    "import numpy as np\n",
    "from gridworld import windy_grid, ACTION_SPACE, windy_grid_penalized\n",
    "from iterative_policy_evaluation_probabilistic import print_values, print_policy"
   ]
  },
  {
   "cell_type": "code",
   "execution_count": 26,
   "id": "61b79ace",
   "metadata": {},
   "outputs": [],
   "source": [
    "SMALL_ENOUGH = 1e-3\n",
    "GAMMA = 0.9"
   ]
  },
  {
   "cell_type": "code",
   "execution_count": 27,
   "id": "1779fb58",
   "metadata": {},
   "outputs": [],
   "source": [
    "# copied from iterative_policy_evaluation\n",
    "def get_transition_probs_and_rewards(grid):\n",
    "  ### define transition probabilities and grid ###\n",
    "  # the key is (s, a, s'), the value is the probability\n",
    "  # that is, transition_probs[(s, a, s')] = p(s' | s, a)\n",
    "  # any key NOT present will considered to be impossible (i.e. probability 0)\n",
    "  transition_probs = {}\n",
    "\n",
    "  # to reduce the dimensionality of the dictionary, we'll use deterministic\n",
    "  # rewards, r(s, a, s')\n",
    "  # note: you could make it simpler by using r(s') since the reward doesn't\n",
    "  # actually depend on (s, a)\n",
    "  rewards = {}\n",
    "\n",
    "  for (s, a), v in grid.probs.items():\n",
    "    for s2, p in v.items():\n",
    "      transition_probs[(s, a, s2)] = p\n",
    "      rewards[(s, a, s2)] = grid.rewards.get(s2, 0)\n",
    "\n",
    "  return transition_probs, rewards"
   ]
  },
  {
   "cell_type": "code",
   "execution_count": 28,
   "id": "357cb4ea",
   "metadata": {},
   "outputs": [
    {
     "name": "stdout",
     "output_type": "stream",
     "text": [
      "rewards:\n",
      "---------------------------\n",
      "-0.10|-0.10|-0.10| 1.00|\n",
      "---------------------------\n",
      "-0.10| 0.00|-0.10|-1.00|\n",
      "---------------------------\n",
      "-0.10|-0.10|-0.10|-0.10|\n"
     ]
    }
   ],
   "source": [
    "grid = windy_grid_penalized(-0.1)\n",
    "transition_probs, rewards = get_transition_probs_and_rewards(grid)\n",
    "\n",
    "# print rewards\n",
    "print(\"rewards:\")\n",
    "print_values(grid.rewards, grid)"
   ]
  },
  {
   "cell_type": "code",
   "execution_count": 29,
   "id": "12767a5c",
   "metadata": {},
   "outputs": [],
   "source": [
    " # initialize V(s)\n",
    "V = {}\n",
    "states = grid.all_states()\n",
    "for s in states:\n",
    "    V[s] = 0"
   ]
  },
  {
   "cell_type": "code",
   "execution_count": 30,
   "id": "933adff7",
   "metadata": {},
   "outputs": [],
   "source": [
    "# repeat until convergence\n",
    "# V[s] = max[a]{ sum[s',r] { p(s',r|s,a)[r + gamma*V[s']] } }\n",
    "it = 0\n",
    "while True:\n",
    "    biggest_change = 0\n",
    "    for s in grid.all_states():\n",
    "        if not grid.is_terminal(s):\n",
    "            old_v = V[s]\n",
    "            new_v = float('-inf')\n",
    "\n",
    "            for a in ACTION_SPACE:\n",
    "                v = 0\n",
    "                for s2 in grid.all_states():\n",
    "                    # reward is a function of (s, a, s'), 0 if not specified\n",
    "                    r = rewards.get((s, a, s2), 0)\n",
    "                    v += transition_probs.get((s, a, s2), 0) * (r + GAMMA * V[s2])\n",
    "\n",
    "                # keep v if it's better\n",
    "                if v > new_v:\n",
    "                    new_v = v\n",
    "\n",
    "            V[s] = new_v\n",
    "            biggest_change = max(biggest_change, np.abs(old_v - V[s]))\n",
    "\n",
    "    it += 1\n",
    "    if biggest_change < SMALL_ENOUGH:\n",
    "        break"
   ]
  },
  {
   "cell_type": "code",
   "execution_count": 31,
   "id": "4f4875e1",
   "metadata": {},
   "outputs": [
    {
     "name": "stdout",
     "output_type": "stream",
     "text": [
      "values:\n",
      "---------------------------\n",
      " 0.62| 0.80| 1.00| 0.00|\n",
      "---------------------------\n",
      " 0.46| 0.00|-0.04| 0.00|\n",
      "---------------------------\n",
      " 0.31| 0.18| 0.06|-0.04|\n",
      "policy:\n",
      "---------------------------\n",
      "  R  |  R  |  R  |     |\n",
      "---------------------------\n",
      "  U  |     |  D  |     |\n",
      "---------------------------\n",
      "  U  |  L  |  L  |  L  |\n"
     ]
    }
   ],
   "source": [
    " # find a policy that leads to optimal value function\n",
    "policy = {}\n",
    "for s in grid.actions.keys():\n",
    "    best_a = None\n",
    "    best_value = float('-inf')\n",
    "    # loop through all possible actions to find the best current action\n",
    "    for a in ACTION_SPACE:\n",
    "        v = 0\n",
    "        for s2 in grid.all_states():\n",
    "            # reward is a function of (s, a, s'), 0 if not specified\n",
    "            r = rewards.get((s, a, s2), 0)\n",
    "            v += transition_probs.get((s, a, s2), 0) * (r + GAMMA * V[s2])\n",
    "\n",
    "        # best_a is the action associated with best_value\n",
    "        if v > best_value:\n",
    "            best_value = v\n",
    "            best_a = a\n",
    "    policy[s] = best_a\n",
    "\n",
    "# our goal here is to verify that we get the same answer as with policy iteration\n",
    "print(\"values:\")\n",
    "print_values(V, grid)\n",
    "print(\"policy:\")\n",
    "print_policy(policy, grid)\n"
   ]
  },
  {
   "cell_type": "code",
   "execution_count": null,
   "id": "5bb1335f",
   "metadata": {},
   "outputs": [],
   "source": []
  },
  {
   "cell_type": "code",
   "execution_count": null,
   "id": "76489add",
   "metadata": {},
   "outputs": [],
   "source": []
  },
  {
   "cell_type": "code",
   "execution_count": null,
   "id": "26a36c1c",
   "metadata": {},
   "outputs": [],
   "source": []
  },
  {
   "cell_type": "code",
   "execution_count": null,
   "id": "50d437c8",
   "metadata": {},
   "outputs": [],
   "source": []
  },
  {
   "cell_type": "code",
   "execution_count": null,
   "id": "e40331c4",
   "metadata": {},
   "outputs": [],
   "source": []
  },
  {
   "cell_type": "code",
   "execution_count": null,
   "id": "9d6023e2",
   "metadata": {},
   "outputs": [],
   "source": []
  },
  {
   "cell_type": "code",
   "execution_count": null,
   "id": "0030ef4e",
   "metadata": {},
   "outputs": [],
   "source": []
  }
 ],
 "metadata": {
  "kernelspec": {
   "display_name": "Python 3 (ipykernel)",
   "language": "python",
   "name": "python3"
  },
  "language_info": {
   "codemirror_mode": {
    "name": "ipython",
    "version": 3
   },
   "file_extension": ".py",
   "mimetype": "text/x-python",
   "name": "python",
   "nbconvert_exporter": "python",
   "pygments_lexer": "ipython3",
   "version": "3.11.2"
  }
 },
 "nbformat": 4,
 "nbformat_minor": 5
}
