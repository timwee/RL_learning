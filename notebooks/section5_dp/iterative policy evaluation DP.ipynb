{
 "cells": [
  {
   "cell_type": "code",
   "execution_count": 1,
   "id": "827799b4",
   "metadata": {},
   "outputs": [],
   "source": [
    "import numpy as np\n",
    "from gridworld import standard_grid, ACTION_SPACE"
   ]
  },
  {
   "cell_type": "code",
   "execution_count": 2,
   "id": "c3c277ea",
   "metadata": {},
   "outputs": [],
   "source": [
    "SMALL_ENOUGH = 1e-3  # threshold for convergence"
   ]
  },
  {
   "cell_type": "code",
   "execution_count": 3,
   "id": "77ba3ac0",
   "metadata": {},
   "outputs": [],
   "source": [
    "def print_values(V, g):\n",
    "  for i in range(g.rows):\n",
    "    print(\"---------------------------\")\n",
    "    for j in range(g.cols):\n",
    "      v = V.get((i, j), 0)\n",
    "      if v >= 0:\n",
    "        print(\" %.2f|\" % v, end=\"\")\n",
    "      else:\n",
    "        print(\"%.2f|\" % v, end=\"\")  # -ve sign takes up an extra space\n",
    "    print(\"\")\n",
    "\n",
    "\n",
    "def print_policy(P, g):\n",
    "  for i in range(g.rows):\n",
    "    print(\"---------------------------\")\n",
    "    for j in range(g.cols):\n",
    "      a = P.get((i, j), ' ')\n",
    "      print(\"  %s  |\" % a, end=\"\")\n",
    "    print(\"\")"
   ]
  },
  {
   "cell_type": "code",
   "execution_count": 6,
   "id": "aec6936d",
   "metadata": {},
   "outputs": [],
   "source": [
    "### define transition probabilities and grid ###\n",
    "# the key is (s, a, s'), the value is the probability\n",
    "# that is, transition_probs[(s, a, s')] = p(s' | s, a)\n",
    "# any key NOT present will considered to be impossible (i.e. probability 0)\n",
    "transition_probs = {}\n",
    "\n",
    "# to reduce the dimensionality of the dictionary, we'll use deterministic\n",
    "# rewards, r(s, a, s')\n",
    "# note: you could make it simpler by using r(s') since the reward doesn't\n",
    "# actually depend on (s, a)\n",
    "rewards = {}\n",
    "\n",
    "grid = standard_grid()\n",
    "for i in range(grid.rows):\n",
    "    for j in range(grid.cols):\n",
    "      s = (i, j)\n",
    "      if not grid.is_terminal(s):\n",
    "        for a in ACTION_SPACE:\n",
    "          s2 = grid.get_next_state(s, a)\n",
    "          transition_probs[(s, a, s2)] = 1\n",
    "          if s2 in grid.rewards:\n",
    "            rewards[(s, a, s2)] = grid.rewards[s2]"
   ]
  },
  {
   "cell_type": "code",
   "execution_count": 7,
   "id": "db5d6866",
   "metadata": {},
   "outputs": [
    {
     "name": "stdout",
     "output_type": "stream",
     "text": [
      "---------------------------\n",
      "  R  |  R  |  R  |     |\n",
      "---------------------------\n",
      "  U  |     |  U  |     |\n",
      "---------------------------\n",
      "  U  |  R  |  U  |  L  |\n"
     ]
    }
   ],
   "source": [
    "### fixed policy ###\n",
    "policy = {\n",
    "  (2, 0): 'U',\n",
    "  (1, 0): 'U',\n",
    "  (0, 0): 'R',\n",
    "  (0, 1): 'R',\n",
    "  (0, 2): 'R',\n",
    "  (1, 2): 'U',\n",
    "  (2, 1): 'R',\n",
    "  (2, 2): 'U',\n",
    "  (2, 3): 'L',\n",
    "}\n",
    "print_policy(policy, grid)"
   ]
  },
  {
   "cell_type": "code",
   "execution_count": 9,
   "id": "b45fdce6",
   "metadata": {},
   "outputs": [],
   "source": [
    "# initialize V(s) = 0\n",
    "V = {}\n",
    "for s in grid.all_states():\n",
    "V[s] = 0"
   ]
  },
  {
   "cell_type": "code",
   "execution_count": 10,
   "id": "96ed8104",
   "metadata": {},
   "outputs": [],
   "source": [
    "gamma = 0.9  # discount factor"
   ]
  },
  {
   "cell_type": "code",
   "execution_count": 11,
   "id": "15490300",
   "metadata": {},
   "outputs": [
    {
     "name": "stdout",
     "output_type": "stream",
     "text": [
      "iter: 0 biggest_change: 1.0\n",
      "---------------------------\n",
      " 0.00| 0.00| 1.00| 0.00|\n",
      "---------------------------\n",
      " 0.00| 0.00| 0.00| 0.00|\n",
      "---------------------------\n",
      " 0.00| 0.00| 0.00| 0.00|\n",
      "iter: 1 biggest_change: 0.9\n",
      "---------------------------\n",
      " 0.81| 0.90| 1.00| 0.00|\n",
      "---------------------------\n",
      " 0.73| 0.00| 0.90| 0.00|\n",
      "---------------------------\n",
      " 0.00| 0.00| 0.81| 0.00|\n",
      "iter: 2 biggest_change: 0.7290000000000001\n",
      "---------------------------\n",
      " 0.81| 0.90| 1.00| 0.00|\n",
      "---------------------------\n",
      " 0.73| 0.00| 0.90| 0.00|\n",
      "---------------------------\n",
      " 0.66| 0.73| 0.81| 0.73|\n",
      "iter: 3 biggest_change: 0\n",
      "---------------------------\n",
      " 0.81| 0.90| 1.00| 0.00|\n",
      "---------------------------\n",
      " 0.73| 0.00| 0.90| 0.00|\n",
      "---------------------------\n",
      " 0.66| 0.73| 0.81| 0.73|\n",
      "\n",
      "\n",
      "\n"
     ]
    }
   ],
   "source": [
    "# repeat until convergence\n",
    "it = 0\n",
    "while True:\n",
    "    biggest_change = 0\n",
    "    for s in grid.all_states():\n",
    "      if not grid.is_terminal(s):\n",
    "        old_v = V[s]\n",
    "        new_v = 0  # we will accumulate the answer\n",
    "        for a in ACTION_SPACE:\n",
    "          for s2 in grid.all_states():\n",
    "\n",
    "            # action probability is deterministic\n",
    "            action_prob = 1 if policy.get(s) == a else 0\n",
    "\n",
    "            # reward is a function of (s, a, s'), 0 if not specified\n",
    "            r = rewards.get((s, a, s2), 0)\n",
    "            new_v += action_prob * \\\n",
    "                transition_probs.get((s, a, s2), 0) * (r + gamma * V[s2])\n",
    "\n",
    "        # after done getting the new value, update the value table\n",
    "        V[s] = new_v\n",
    "        biggest_change = max(biggest_change, np.abs(old_v - V[s]))\n",
    "\n",
    "    print(\"iter:\", it, \"biggest_change:\", biggest_change)\n",
    "    print_values(V, grid)\n",
    "    it += 1\n",
    "\n",
    "    if biggest_change < SMALL_ENOUGH:\n",
    "      break\n",
    "print(\"\\n\\n\")"
   ]
  },
  {
   "cell_type": "code",
   "execution_count": null,
   "id": "b426c9a2",
   "metadata": {},
   "outputs": [],
   "source": []
  }
 ],
 "metadata": {
  "kernelspec": {
   "display_name": "Python 3 (ipykernel)",
   "language": "python",
   "name": "python3"
  },
  "language_info": {
   "codemirror_mode": {
    "name": "ipython",
    "version": 3
   },
   "file_extension": ".py",
   "mimetype": "text/x-python",
   "name": "python",
   "nbconvert_exporter": "python",
   "pygments_lexer": "ipython3",
   "version": "3.11.2"
  }
 },
 "nbformat": 4,
 "nbformat_minor": 5
}
